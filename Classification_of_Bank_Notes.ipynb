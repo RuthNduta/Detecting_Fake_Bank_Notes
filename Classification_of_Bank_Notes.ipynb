{
  "nbformat": 4,
  "nbformat_minor": 0,
  "metadata": {
    "colab": {
      "name": "Classification_of_Bank_Notes.ipynb",
      "provenance": [],
      "authorship_tag": "ABX9TyNbdZRsHpqUPRmRvUVHOQs7",
      "include_colab_link": true
    },
    "kernelspec": {
      "display_name": "Python 3",
      "name": "python3"
    },
    "language_info": {
      "name": "python"
    }
  },
  "cells": [
    {
      "cell_type": "markdown",
      "metadata": {
        "id": "view-in-github",
        "colab_type": "text"
      },
      "source": [
        "<a href=\"https://colab.research.google.com/github/RuthNduta/Detecting_Fake_Bank_Notes/blob/main/Classification_of_Bank_Notes.ipynb\" target=\"_parent\"><img src=\"https://colab.research.google.com/assets/colab-badge.svg\" alt=\"Open In Colab\"/></a>"
      ]
    },
    {
      "cell_type": "code",
      "metadata": {
        "id": "9HXoUT8bgvZD"
      },
      "source": [
        "#Loading libraries\n",
        "\n",
        "import pandas as pd\n",
        "import numpy as np\n",
        "import tensorflow as tf\n",
        "import matplotlib.pyplot as plt\n"
      ],
      "execution_count": null,
      "outputs": []
    },
    {
      "cell_type": "code",
      "metadata": {
        "colab": {
          "base_uri": "https://localhost:8080/"
        },
        "id": "A_cWm75sgrXy",
        "outputId": "1d61c5e1-b433-4852-dcdc-5ad59a9f0404"
      },
      "source": [
        "#Reading the data\n",
        "bank_note_data  = pd.read_csv(\"https://raw.githubusercontent.com/dphi-official/Datasets/master/bank_note_data/training_set_label.csv\" )\n",
        "bank_note_data.info()"
      ],
      "execution_count": null,
      "outputs": [
        {
          "output_type": "stream",
          "text": [
            "<class 'pandas.core.frame.DataFrame'>\n",
            "RangeIndex: 1096 entries, 0 to 1095\n",
            "Data columns (total 5 columns):\n",
            " #   Column  Non-Null Count  Dtype  \n",
            "---  ------  --------------  -----  \n",
            " 0   VWTI    1096 non-null   float64\n",
            " 1   SWTI    1096 non-null   float64\n",
            " 2   CWTI    1096 non-null   float64\n",
            " 3   EI      1096 non-null   float64\n",
            " 4   Class   1096 non-null   int64  \n",
            "dtypes: float64(4), int64(1)\n",
            "memory usage: 42.9 KB\n"
          ],
          "name": "stdout"
        }
      ]
    },
    {
      "cell_type": "markdown",
      "metadata": {
        "id": "CpWtDrz6lK71"
      },
      "source": [
        "#Data Description\n",
        "\n",
        "* VWTI: Variance of Wavelet Transformed Image\n",
        "* SWTI: Skewness of Wavelet Transformed Image\n",
        "* CWTI: Curtosis of Wavelet Transformed Image\n",
        "* EI: Entropy of Image\n",
        "* Class: Class (1: genuine, 0: forged)\n",
        "\n",
        "Our dataset is clean so we'll dive straight into modelling"
      ]
    },
    {
      "cell_type": "markdown",
      "metadata": {
        "id": "bpSwMeI6lZu6"
      },
      "source": [
        "#Separating Input and Target Variable"
      ]
    },
    {
      "cell_type": "code",
      "metadata": {
        "colab": {
          "base_uri": "https://localhost:8080/"
        },
        "id": "r8TEGxTTlKmj",
        "outputId": "18a94adb-bd81-4e32-f35b-838263981bd8"
      },
      "source": [
        "X = bank_note_data.drop('Class', axis=1)#Input variables\n",
        "y = bank_note_data['Class']#Target variables\n",
        "print(X.shape)\n",
        "print(y.shape)"
      ],
      "execution_count": null,
      "outputs": [
        {
          "output_type": "stream",
          "text": [
            "(1096, 4)\n",
            "(1096,)\n"
          ],
          "name": "stdout"
        }
      ]
    },
    {
      "cell_type": "markdown",
      "metadata": {
        "id": "EK5ss6eCl95T"
      },
      "source": [
        "#Splitting into Train and Test Sets"
      ]
    },
    {
      "cell_type": "code",
      "metadata": {
        "colab": {
          "base_uri": "https://localhost:8080/"
        },
        "id": "WMi_7UIlkfl6",
        "outputId": "9878214e-5d41-42d8-fb4b-fb05fee5678c"
      },
      "source": [
        "from sklearn.model_selection import train_test_split\n",
        "\n",
        "X_train, X_test, y_train, y_test = train_test_split(X,y, test_size=0.2, random_state=42)\n",
        "print(X_train.shape)\n",
        "n_features = X.shape[1]\n",
        "print(n_features)\n",
        "\n",
        "#Normalizing the input variables\n",
        "from sklearn.preprocessing import MinMaxScaler\n",
        "\n",
        "norm = MinMaxScaler().fit(X_train)\n",
        "X_train = norm.transform(X_train)\n",
        "X_test = norm.transform(X_test)"
      ],
      "execution_count": null,
      "outputs": [
        {
          "output_type": "stream",
          "text": [
            "(876, 4)\n",
            "4\n"
          ],
          "name": "stdout"
        }
      ]
    },
    {
      "cell_type": "markdown",
      "metadata": {
        "id": "-D2lttyrktSR"
      },
      "source": [
        "#Model Building\n",
        "\n",
        "Now that we have our data fully processed and split into training and testing datasets, we can begin building a neural network to solve this classification problem. \n",
        "\n",
        "* We are to come up with an efficient model that accurately predicts if a note is genuine or not."
      ]
    },
    {
      "cell_type": "code",
      "metadata": {
        "id": "fWsj4JgKkj-t"
      },
      "source": [
        "from tensorflow import keras\n",
        "from tensorflow.keras import layers\n",
        "from tensorflow.keras.layers import Dense\n",
        "from tensorflow.keras import Sequential"
      ],
      "execution_count": null,
      "outputs": []
    },
    {
      "cell_type": "markdown",
      "metadata": {
        "id": "I0Nd_RMQnlIz"
      },
      "source": [
        "##Define model\n"
      ]
    },
    {
      "cell_type": "markdown",
      "metadata": {
        "id": "ofcMBw3Jn0HY"
      },
      "source": [
        "We create a Sequential model and add layers one at a time until we are happy with our network architecture.\n",
        "\n",
        "The first thing to get right is to ensure the input layer has the right number of input features.\n",
        "\n",
        "Since this is a binary classification problem, we will use a sigmoid activation function in the final layer of our network.\n",
        "\n",
        "Sigmoid is commonly used in the output layer. This is because it helps in giving a probability(value between 0 and 1) which is useful in Binary Classification.\n",
        "\n",
        "Our model architecture\n",
        "For our model, we'll be considering the following:\n",
        "\n",
        "Input = the no. of features in X_train = 4\n",
        "\n",
        "* No. of neurons/units in second Dense layer = 16\n",
        "* No. of neurons/units in third Dense layer = 8\n",
        "* No. of neurons/units in output layer = 1\n",
        "\n",
        "If you closely look at it, we're slowly decreasing the number of neurons in each layer. Deciding the no. of hidden layers and no. of neurons is a process of trial and error."
      ]
    },
    {
      "cell_type": "code",
      "metadata": {
        "id": "luscQdavnasr"
      },
      "source": [
        "model =Sequential()\n",
        "model.add(Dense(16, activation='relu', input_shape=(n_features,)))\n",
        "model.add(Dense(1, activation='sigmoid'))"
      ],
      "execution_count": null,
      "outputs": []
    },
    {
      "cell_type": "markdown",
      "metadata": {
        "id": "OHmUNpd0r3Mv"
      },
      "source": [
        "The above code creates a Neural Network that has 3 layers.\n",
        "\n",
        "* The last node uses the sigmoid activation function that will squeeze all the values between 0 and 1.\n",
        "\n",
        "* The other layers use ReLU (Rectified Linear Units) as the activation function. \n",
        "\n",
        "* One output unit is used since for each record values in X, a probability will be predicted. If it is low, then bank note is forged. If it is high, then the bank note is real/not fake."
      ]
    },
    {
      "cell_type": "markdown",
      "metadata": {
        "id": "wBtJsYsTtI6v"
      },
      "source": [
        "#Compile Model"
      ]
    },
    {
      "cell_type": "code",
      "metadata": {
        "id": "EshkW68DsO_u"
      },
      "source": [
        "from tensorflow.keras.optimizers import RMSprop\n",
        "optimizer = RMSprop(0.001)\n",
        "model.compile(optimizer=optimizer, loss='binary_crossentropy', metrics=['accuracy'])"
      ],
      "execution_count": null,
      "outputs": []
    },
    {
      "cell_type": "code",
      "metadata": {
        "colab": {
          "base_uri": "https://localhost:8080/"
        },
        "id": "g9BFuLsltszK",
        "outputId": "f510f185-ece7-45ea-ab3f-4dd479bb2e7b"
      },
      "source": [
        "#Let's see the model's summary:\n",
        "model.summary()\n"
      ],
      "execution_count": null,
      "outputs": [
        {
          "output_type": "stream",
          "text": [
            "Model: \"sequential\"\n",
            "_________________________________________________________________\n",
            "Layer (type)                 Output Shape              Param #   \n",
            "=================================================================\n",
            "dense (Dense)                (None, 16)                80        \n",
            "_________________________________________________________________\n",
            "dense_1 (Dense)              (None, 1)                 17        \n",
            "=================================================================\n",
            "Total params: 97\n",
            "Trainable params: 97\n",
            "Non-trainable params: 0\n",
            "_________________________________________________________________\n"
          ],
          "name": "stdout"
        }
      ]
    },
    {
      "cell_type": "code",
      "metadata": {
        "colab": {
          "base_uri": "https://localhost:8080/",
          "height": 272
        },
        "id": "wVxV_2SSuBLx",
        "outputId": "a030cc46-0730-4a53-b186-362fa4dd14cc"
      },
      "source": [
        "#Let's visualize the model\n",
        "from tensorflow.keras.utils import plot_model\n",
        "\n",
        "plot_model(model)"
      ],
      "execution_count": null,
      "outputs": [
        {
          "output_type": "execute_result",
          "data": {
            "image/png": "[encoded data removed]",
            "text/plain": [
              "<IPython.core.display.Image object>"
            ]
          },
          "metadata": {
            "tags": []
          },
          "execution_count": 42
        }
      ]
    },
    {
      "cell_type": "markdown",
      "metadata": {
        "id": "dmTCM50Ou1JH"
      },
      "source": [
        "#History\n",
        "We'll be saving the trained model to a variable history.\n",
        "\n",
        "When running a model, Tensorflow Keras maintains a so-called History object in the background. This object keeps all loss values and other metric values in memory so that they can be used for visualizations.\n",
        "\n",
        "The history object is the output of the fit operation."
      ]
    },
    {
      "cell_type": "code",
      "metadata": {
        "colab": {
          "base_uri": "https://localhost:8080/"
        },
        "id": "W1EAOK0rvD2b",
        "outputId": "516a7372-439b-4615-b0fc-eaf966f0f082"
      },
      "source": [
        "history = model.fit(X_train, y_train, validation_split=0.2, epochs = 20, batch_size=10, verbose=1)"
      ],
      "execution_count": null,
      "outputs": [
        {
          "output_type": "stream",
          "text": [
            "Epoch 1/20\n",
            "70/70 [==============================] - 1s 4ms/step - loss: 1.1146 - accuracy: 0.4421 - val_loss: 0.7608 - val_accuracy: 0.4432\n",
            "Epoch 2/20\n",
            "70/70 [==============================] - 0s 2ms/step - loss: 0.6222 - accuracy: 0.6028 - val_loss: 0.4353 - val_accuracy: 0.8295\n",
            "Epoch 3/20\n",
            "70/70 [==============================] - 0s 2ms/step - loss: 0.3718 - accuracy: 0.9081 - val_loss: 0.2509 - val_accuracy: 0.9830\n",
            "Epoch 4/20\n",
            "70/70 [==============================] - 0s 2ms/step - loss: 0.2185 - accuracy: 0.9895 - val_loss: 0.1554 - val_accuracy: 0.9830\n",
            "Epoch 5/20\n",
            "70/70 [==============================] - 0s 2ms/step - loss: 0.1536 - accuracy: 0.9878 - val_loss: 0.1061 - val_accuracy: 0.9886\n",
            "Epoch 6/20\n",
            "70/70 [==============================] - 0s 2ms/step - loss: 0.1067 - accuracy: 0.9895 - val_loss: 0.0746 - val_accuracy: 0.9830\n",
            "Epoch 7/20\n",
            "70/70 [==============================] - 0s 2ms/step - loss: 0.0766 - accuracy: 0.9939 - val_loss: 0.0568 - val_accuracy: 0.9943\n",
            "Epoch 8/20\n",
            "70/70 [==============================] - 0s 2ms/step - loss: 0.0678 - accuracy: 0.9957 - val_loss: 0.0445 - val_accuracy: 0.9886\n",
            "Epoch 9/20\n",
            "70/70 [==============================] - 0s 2ms/step - loss: 0.0446 - accuracy: 0.9975 - val_loss: 0.0375 - val_accuracy: 0.9943\n",
            "Epoch 10/20\n",
            "70/70 [==============================] - 0s 2ms/step - loss: 0.0462 - accuracy: 0.9932 - val_loss: 0.0306 - val_accuracy: 0.9943\n",
            "Epoch 11/20\n",
            "70/70 [==============================] - 0s 2ms/step - loss: 0.0301 - accuracy: 0.9973 - val_loss: 0.0261 - val_accuracy: 0.9943\n",
            "Epoch 12/20\n",
            "70/70 [==============================] - 0s 2ms/step - loss: 0.0256 - accuracy: 1.0000 - val_loss: 0.0223 - val_accuracy: 1.0000\n",
            "Epoch 13/20\n",
            "70/70 [==============================] - 0s 2ms/step - loss: 0.0246 - accuracy: 1.0000 - val_loss: 0.0186 - val_accuracy: 1.0000\n",
            "Epoch 14/20\n",
            "70/70 [==============================] - 0s 2ms/step - loss: 0.0224 - accuracy: 1.0000 - val_loss: 0.0159 - val_accuracy: 1.0000\n",
            "Epoch 15/20\n",
            "70/70 [==============================] - 0s 2ms/step - loss: 0.0138 - accuracy: 1.0000 - val_loss: 0.0136 - val_accuracy: 1.0000\n",
            "Epoch 16/20\n",
            "70/70 [==============================] - 0s 2ms/step - loss: 0.0144 - accuracy: 1.0000 - val_loss: 0.0116 - val_accuracy: 1.0000\n",
            "Epoch 17/20\n",
            "70/70 [==============================] - 0s 2ms/step - loss: 0.0113 - accuracy: 1.0000 - val_loss: 0.0101 - val_accuracy: 1.0000\n",
            "Epoch 18/20\n",
            "70/70 [==============================] - 0s 2ms/step - loss: 0.0125 - accuracy: 1.0000 - val_loss: 0.0086 - val_accuracy: 1.0000\n",
            "Epoch 19/20\n",
            "70/70 [==============================] - 0s 2ms/step - loss: 0.0101 - accuracy: 1.0000 - val_loss: 0.0075 - val_accuracy: 1.0000\n",
            "Epoch 20/20\n",
            "70/70 [==============================] - 0s 2ms/step - loss: 0.0077 - accuracy: 1.0000 - val_loss: 0.0066 - val_accuracy: 1.0000\n"
          ],
          "name": "stdout"
        }
      ]
    },
    {
      "cell_type": "markdown",
      "metadata": {
        "id": "_DioIGMKnE1D"
      },
      "source": [
        "## Model Evaluation\n",
        "Evaluating the model requires that you first choose a separate dataset used to evaluate the model. This should be data not used in the training process i.e. the X_test.\n",
        "\n",
        "Now, let us use the trained model to predict the probability values for the new data set - The test set we had initially created. The below code passes the X_test and y_test to the trained model and gives out the probability."
      ]
    },
    {
      "cell_type": "code",
      "metadata": {
        "colab": {
          "base_uri": "https://localhost:8080/"
        },
        "id": "dp0H2fEo5G9l",
        "outputId": "0d4215b0-a21e-4b79-bc38-a86fa1be62b1"
      },
      "source": [
        "model.evaluate(X_test, y_test)"
      ],
      "execution_count": null,
      "outputs": [
        {
          "output_type": "stream",
          "text": [
            "7/7 [==============================] - 0s 1ms/step - loss: 0.0048 - accuracy: 1.0000\n"
          ],
          "name": "stdout"
        },
        {
          "output_type": "execute_result",
          "data": {
            "text/plain": [
              "[0.004843404050916433, 1.0]"
            ]
          },
          "metadata": {
            "tags": []
          },
          "execution_count": 44
        }
      ]
    },
    {
      "cell_type": "markdown",
      "metadata": {
        "id": "uhgS-vaMNOKH"
      },
      "source": [
        "### Model Accuracy\n",
        "Now, we'll use the history object created above to plot the Accuracy and Loss throughout the training process.\n",
        "\n",
        "You can think of history.history as a Python dictionary from which the values can be obtained by specifying a key within square brackets.\n",
        "\n",
        "For eg. `history.history['accuracy']` will give the train accuracy throughout the training process."
      ]
    },
    {
      "cell_type": "code",
      "metadata": {
        "colab": {
          "base_uri": "https://localhost:8080/",
          "height": 294
        },
        "id": "-oyohXCu3E8t",
        "outputId": "da95d4e4-03ed-4407-e5f8-91b1205b455b"
      },
      "source": [
        "plt.plot(history.history['accuracy'])\n",
        "plt.plot(history.history['val_accuracy'])\n",
        "plt.title('Model Accuracy')\n",
        "plt.ylabel('accuracy')\n",
        "plt.xlabel('epoch')\n",
        "plt.legend(['Train', 'Validation'])\n",
        "plt.show()"
      ],
      "execution_count": null,
      "outputs": [
        {
          "output_type": "display_data",
          "data": {
            "image/png": "[encoded data removed]",
            "text/plain": [
              "<Figure size 432x288 with 1 Axes>"
            ]
          },
          "metadata": {
            "tags": []
          }
        }
      ]
    },
    {
      "cell_type": "markdown",
      "metadata": {
        "id": "oKwdGvjwNUAT"
      },
      "source": [
        "### Model Loss"
      ]
    },
    {
      "cell_type": "code",
      "metadata": {
        "colab": {
          "base_uri": "https://localhost:8080/",
          "height": 294
        },
        "id": "Ku9K-qUi3II3",
        "outputId": "43f3d931-2a44-4ae3-877d-fb5d5f1cf010"
      },
      "source": [
        "plt.plot(history.history['loss'])\n",
        "plt.plot(history.history['val_loss'])\n",
        "plt.title('Model Loss')\n",
        "plt.ylabel('loss')\n",
        "plt.xlabel('epoch')\n",
        "plt.legend(['Train', 'Validation'])\n",
        "plt.show()"
      ],
      "execution_count": null,
      "outputs": [
        {
          "output_type": "display_data",
          "data": {
            "image/png": "[encoded data removed]",
            "text/plain": [
              "<Figure size 432x288 with 1 Axes>"
            ]
          },
          "metadata": {
            "tags": []
          }
        }
      ]
    },
    {
      "cell_type": "markdown",
      "metadata": {
        "id": "l7MypLpX9o_5"
      },
      "source": [
        "Observe how the accuracy is slowly increasing and the loss slowly decreasing. Interesting, right?\n"
      ]
    },
    {
      "cell_type": "markdown",
      "metadata": {
        "id": "jqUymmB_zpQE"
      },
      "source": [
        "#Hyperparameter Tuning\n",
        "\n"
      ]
    },
    {
      "cell_type": "markdown",
      "metadata": {
        "id": "QwjqAqid476m"
      },
      "source": [
        "Now we will go through the process of automating hyperparameter tuning using **Random Search** and **Keras**. Random Search is a hyperparameter search procedure that is performed on a defined grid of hyperparameters. However, not all hyperparameter combinations are used to train a new model, only some selected randomly, while a process of cross-validation to measure the performance of temporal models. Once the process is complete, the hyperparameters and the best performing model are chosen.\n",
        "\n",
        "\n",
        "We'll use the `keras-tuner`, a library that helps you pick the optimal set of hyperparameters for your TensorFlow model."
      ]
    },
    {
      "cell_type": "markdown",
      "metadata": {
        "id": "YTXYDbR30NbT"
      },
      "source": [
        "### Goal: tune the learning rate"
      ]
    },
    {
      "cell_type": "code",
      "metadata": {
        "colab": {
          "base_uri": "https://localhost:8080/"
        },
        "id": "GZPu4B7M0SMj",
        "outputId": "db3ee922-1eb1-49c7-d89b-00c641b416ed"
      },
      "source": [
        "# 0. Install and import all the packages needed\n",
        "!pip install -q -U keras-tuner\n",
        "import kerastuner as kt"
      ],
      "execution_count": null,
      "outputs": [
        {
          "output_type": "stream",
          "text": [
            "\u001b[?25l\r\u001b[K     |█████▏                          | 10kB 16.7MB/s eta 0:00:01\r\u001b[K     |██████████▍                     | 20kB 15.5MB/s eta 0:00:01\r\u001b[K     |███████████████▋                | 30kB 9.0MB/s eta 0:00:01\r\u001b[K     |████████████████████▉           | 40kB 8.1MB/s eta 0:00:01\r\u001b[K     |██████████████████████████      | 51kB 4.1MB/s eta 0:00:01\r\u001b[K     |███████████████████████████████▎| 61kB 4.8MB/s eta 0:00:01\r\u001b[K     |████████████████████████████████| 71kB 2.7MB/s \n",
            "\u001b[?25h  Building wheel for keras-tuner (setup.py) ... \u001b[?25l\u001b[?25hdone\n",
            "  Building wheel for terminaltables (setup.py) ... \u001b[?25l\u001b[?25hdone\n"
          ],
          "name": "stdout"
        }
      ]
    },
    {
      "cell_type": "code",
      "metadata": {
        "id": "v12ooeVT0YtM"
      },
      "source": [
        "# 1. Define the general architecture of the model through a creation user-defined function\n",
        "def model_builder(hp):\n",
        "  model = Sequential()\n",
        "  model.add(Dense(10, activation='relu', input_shape=(n_features,)))\n",
        "  model.add(Dense(8, activation='relu'))\n",
        "  model.add(Dense(1))\n",
        "  hp_learning_rate = hp.Choice('learning_rate', values = [1e-1, 1e-2, 1e-3, 1e-4]) # Tuning the learning rate (four different values to test: 0.1, 0.01, 0.001, 0.0001)\n",
        "  optimizer = RMSprop(learning_rate = hp_learning_rate)                            # Defining the optimizer\n",
        "  model.compile(loss='mse',metrics=['mse'], optimizer=optimizer)                   # Compiling the model \n",
        "  return model                                                                     # Returning the defined model"
      ],
      "execution_count": null,
      "outputs": []
    },
    {
      "cell_type": "code",
      "metadata": {
        "id": "8a8h7K0Z0Zog"
      },
      "source": [
        "#Let's define the model\n",
        "def tuned_model(hpm):\n",
        "  model =Sequential()\n",
        "  model.add(Dense(16, activation='relu', input_shape=(n_features,)))\n",
        "  model.add(Dense(1, activation='sigmoid'))\n",
        "  hpm_learning_rate = hpm.Choice('learning_rate', values = [1e-1, 1e-2, 1e-3, 1e-4]) # Tuning the learning rate (four different values to test: 0.1, 0.01, 0.001, 0.0001)\n",
        "  optimizer = RMSprop(learning_rate=hpm_learning_rate)\n",
        "  model.compile(loss='binary_crossentropy', metrics=['accuracy'], optimizer=optimizer)\n",
        "  return model"
      ],
      "execution_count": null,
      "outputs": []
    },
    {
      "cell_type": "code",
      "metadata": {
        "colab": {
          "base_uri": "https://localhost:8080/"
        },
        "id": "inRKd7kY2NEY",
        "outputId": "ab943996-d71a-40f1-e834-8311d6c385d0"
      },
      "source": [
        "#Define the hyperparameters grid to be validated\n",
        "tuner_rs = kt.RandomSearch(\n",
        "              tuned_model,                # Takes hyperparameters (hp) and returns a Model instance\n",
        "              objective = 'loss',            # Name of model metric to minimize or maximize\n",
        "              seed = 42,                    # Random seed for replication purposes\n",
        "              max_trials = 5,               # Total number of trials (model configurations) to test at most. Note that the oracle may interrupt the search before max_trial models have been tested.\n",
        "              directory='random_search')    # Path to the working directory (relative).\n",
        "\n",
        "\n",
        "tuned = tuner_rs.search(X_train, y_train, epochs=10, validation_split=0.2, verbose=1)"
      ],
      "execution_count": null,
      "outputs": [
        {
          "output_type": "stream",
          "text": [
            "Trial 4 Complete [00h 00m 01s]\n",
            "loss: 0.17289167642593384\n",
            "\n",
            "Best loss So Far: 0.07457069307565689\n",
            "Total elapsed time: 00h 00m 07s\n",
            "INFO:tensorflow:Oracle triggered exit\n"
          ],
          "name": "stdout"
        }
      ]
    },
    {
      "cell_type": "code",
      "metadata": {
        "colab": {
          "base_uri": "https://localhost:8080/"
        },
        "id": "gRy9Aaby_dQt",
        "outputId": "3fff64b6-3555-4ec7-be6a-e7df61450906"
      },
      "source": [
        "# 4.1. Print the summary results of the hyperparameter tuning procedure\n",
        "tuner_rs.results_summary()"
      ],
      "execution_count": null,
      "outputs": [
        {
          "output_type": "stream",
          "text": [
            "Results summary\n",
            "Results in random_search/untitled_project\n",
            "Showing 10 best trials\n",
            "Objective(name='loss', direction='min')\n",
            "Trial summary\n",
            "Hyperparameters:\n",
            "learning_rate: 0.1\n",
            "Score: 4.1804181819316e-05\n",
            "Trial summary\n",
            "Hyperparameters:\n",
            "learning_rate: 0.01\n",
            "Score: 0.0013877165038138628\n",
            "Trial summary\n",
            "Hyperparameters:\n",
            "learning_rate: 0.001\n",
            "Score: 0.14793594181537628\n",
            "Trial summary\n",
            "Hyperparameters:\n",
            "learning_rate: 0.0001\n",
            "Score: 0.2481890618801117\n"
          ],
          "name": "stdout"
        }
      ]
    },
    {
      "cell_type": "code",
      "metadata": {
        "colab": {
          "base_uri": "https://localhost:8080/"
        },
        "id": "Rq_625b19g6P",
        "outputId": "ace042f3-0c5d-46a8-a3ea-883d3740c5ba"
      },
      "source": [
        "# 4.2. Print the results of the best model\n",
        "best_model = tuner_rs.get_best_models(num_models=1)[0]\n",
        "best_model.evaluate(X_test, y_test)"
      ],
      "execution_count": null,
      "outputs": [
        {
          "output_type": "stream",
          "text": [
            "7/7 [==============================] - 0s 1ms/step - loss: 8.3681e-06 - accuracy: 1.0000\n"
          ],
          "name": "stdout"
        },
        {
          "output_type": "execute_result",
          "data": {
            "text/plain": [
              "[1.2480370969569776e-05, 1.0]"
            ]
          },
          "metadata": {
            "tags": []
          },
          "execution_count": 54
        }
      ]
    },
    {
      "cell_type": "code",
      "metadata": {
        "colab": {
          "base_uri": "https://localhost:8080/"
        },
        "id": "gBxM4hL6r9Vz",
        "outputId": "e79ff804-6abc-4c48-e1ea-4cc5b9a1075c"
      },
      "source": [
        "# 4.3. Print the best model's architecture\n",
        "best_model.summary()"
      ],
      "execution_count": null,
      "outputs": [
        {
          "output_type": "stream",
          "text": [
            "Model: \"sequential\"\n",
            "_________________________________________________________________\n",
            "Layer (type)                 Output Shape              Param #   \n",
            "=================================================================\n",
            "dense (Dense)                (None, 16)                80        \n",
            "_________________________________________________________________\n",
            "dense_1 (Dense)              (None, 1)                 17        \n",
            "=================================================================\n",
            "Total params: 97\n",
            "Trainable params: 97\n",
            "Non-trainable params: 0\n",
            "_________________________________________________________________\n"
          ],
          "name": "stdout"
        }
      ]
    },
    {
      "cell_type": "code",
      "metadata": {
        "id": "KBqYpM4bXCCK"
      },
      "source": [
        "# ----------------------------- Functional Tuning - Option 1: using Sklearn  ------------------------------\n",
        "# Goal: tune the batch size and epochs\n",
        "\n",
        "# Import KerasRegressor class\n",
        "from keras.wrappers.scikit_learn import KerasRegressor\n",
        "from sklearn.model_selection import GridSearchCV\n",
        "# Define the model trhough a user-defined function\n",
        "def create_model(optimizer=RMSprop(0.01)):\n",
        "  model = Sequential()\n",
        "  model.add(Dense(16, activation='relu', input_shape=(n_features,)))\n",
        "  model.add(Dense(1))\n",
        "  model.compile(loss='binary_crossentropy', metrics=['accuracy'], optimizer=optimizer)    # compile the model\n",
        "  return model\n",
        "model = KerasRegressor(build_fn=create_model, verbose=1)\n",
        "\n",
        "# Define the hyperparameters grid to be validated\n",
        "batch_size = [10, 20, 30, 40, 60, 80, 100]\n",
        "epochs = [10, 50, 100]\n",
        "param_grid = dict(batch_size=batch_size, epochs=epochs)\n",
        "model = KerasRegressor(build_fn=create_model, verbose=1)\n",
        "grid = GridSearchCV(estimator=model, param_grid=param_grid, cv=5, n_jobs=-1)\n",
        "\n",
        "# Run the GridSearchCV process\n",
        "grid_result = grid.fit(X_train, y_train, verbose = 1)\n",
        "\n",
        "# Print the results of the best model\n",
        "print('Best params: ' + str(grid_result.best_params_))"
      ],
      "execution_count": null,
      "outputs": []
    },
    {
      "cell_type": "code",
      "metadata": {
        "colab": {
          "base_uri": "https://localhost:8080/"
        },
        "id": "kPhLiMwo9crk",
        "outputId": "62596c3e-4e46-4dce-d09b-c8cade8eec2d"
      },
      "source": [
        "from keras.wrappers.scikit_learn import KerasRegressor\n",
        "def create_model(optimizer = RMSprop(0.01)):\n",
        "  model=Sequential()\n",
        "  model.add(Dense(16, activation='relu', input_shape=(n_features,)))\n",
        "  model.add(Dense(1))\n",
        "  model.compile(loss='binary_crossentropy',metrics=['binary_crossentropy'], optimizer=optimizer)\n",
        "  return model\n",
        "model= KerasRegressor(build_fn=create_model, verbose=1)\n",
        "model"
      ],
      "execution_count": 19,
      "outputs": [
        {
          "output_type": "execute_result",
          "data": {
            "text/plain": [
              "<tensorflow.python.keras.wrappers.scikit_learn.KerasRegressor at 0x7f3b4851a4d0>"
            ]
          },
          "metadata": {
            "tags": []
          },
          "execution_count": 19
        }
      ]
    },
    {
      "cell_type": "code",
      "metadata": {
        "id": "q-CXKJSU-9xE"
      },
      "source": [
        "#Hyperparameters to be tuned\n",
        "batch_size =[10,20,30,40,50,60,80, 100]\n",
        "epochs = [10,50,100]\n",
        "param_grid = dict(batch_size=batch_size, epochs=epochs)\n",
        "grid = GridSearchCV(estimator=model, param_grid=param_grid,cv=5, n_jobs=-1)\n",
        "result = grid.fit(X_train,y_train, verbose=1)\n",
        "print('Bestie:' + str(result.best_params_))"
      ],
      "execution_count": null,
      "outputs": []
    },
    {
      "cell_type": "code",
      "metadata": {
        "id": "x5yqTxcWd2tY"
      },
      "source": [
        "# Import the cross validation evaluator\n",
        "from sklearn.model_selection import cross_val_score\n",
        "\n",
        "# Measure the model's performance\n",
        "results = cross_val_score(grid.best_estimator_, X_test, y_test, cv=5)\n",
        "print('Results: \\n  * Mean:', -results.mean(), '\\n  * Std:', results.std())"
      ],
      "execution_count": null,
      "outputs": []
    },
    {
      "cell_type": "markdown",
      "metadata": {
        "id": "lSBw11Y61Pp1"
      },
      "source": [
        "# Conclusion\n",
        "I developed a working Neural Network for the binary classification problem and was able to classify the fake and real bank notes."
      ]
    }
  ]
}